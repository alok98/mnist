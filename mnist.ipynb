{
  "nbformat": 4,
  "nbformat_minor": 0,
  "metadata": {
    "colab": {
      "name": "mnist.ipynb",
      "provenance": [],
      "authorship_tag": "ABX9TyMuW9D7Ke6piUU6OZuToShE"
    },
    "kernelspec": {
      "name": "python3",
      "display_name": "Python 3"
    }
  },
  "cells": [
    {
      "cell_type": "code",
      "metadata": {
        "id": "ylX35a3g_T48",
        "colab_type": "code",
        "colab": {}
      },
      "source": [
        "import tensorflow.compat.v1 as tf"
      ],
      "execution_count": 0,
      "outputs": []
    },
    {
      "cell_type": "code",
      "metadata": {
        "id": "fZgu32Rk_kFt",
        "colab_type": "code",
        "colab": {}
      },
      "source": [
        "from tensorflow.keras.datasets import mnist"
      ],
      "execution_count": 0,
      "outputs": []
    },
    {
      "cell_type": "code",
      "metadata": {
        "id": "2THEJFD5_ztw",
        "colab_type": "code",
        "colab": {
          "base_uri": "https://localhost:8080/",
          "height": 51
        },
        "outputId": "072935c3-bfdc-4dd0-87d4-20e09f4a4795"
      },
      "source": [
        "#loading mnist data set\n",
        "(X_train, Y_train), (X_test, Y_test) = mnist.load_data()"
      ],
      "execution_count": 3,
      "outputs": [
        {
          "output_type": "stream",
          "text": [
            "Downloading data from https://storage.googleapis.com/tensorflow/tf-keras-datasets/mnist.npz\n",
            "11493376/11490434 [==============================] - 0s 0us/step\n"
          ],
          "name": "stdout"
        }
      ]
    },
    {
      "cell_type": "code",
      "metadata": {
        "id": "roDKGlghUY6Z",
        "colab_type": "code",
        "colab": {
          "base_uri": "https://localhost:8080/",
          "height": 85
        },
        "outputId": "6b940629-154a-4179-a243-ff64f5ec1964"
      },
      "source": [
        "#shapes\n",
        "print(X_train.shape)\n",
        "print(Y_train.shape)\n",
        "print(X_test.shape)\n",
        "print(Y_test.shape)"
      ],
      "execution_count": 4,
      "outputs": [
        {
          "output_type": "stream",
          "text": [
            "(60000, 28, 28)\n",
            "(60000,)\n",
            "(10000, 28, 28)\n",
            "(10000,)\n"
          ],
          "name": "stdout"
        }
      ]
    },
    {
      "cell_type": "code",
      "metadata": {
        "id": "sPmnxTgOUuEP",
        "colab_type": "code",
        "colab": {
          "base_uri": "https://localhost:8080/",
          "height": 136
        },
        "outputId": "edbc4e09-8ba3-4078-9371-05768331a91f"
      },
      "source": [
        "#one hot encoding on y_train\n",
        "tf.disable_eager_execution()\n",
        "sess=tf.Session()\n",
        "\n",
        "Y_train=tf.one_hot(Y_train,10)\n",
        "Y_test=tf.one_hot(Y_test,10)\n",
        "sess.run(Y_test)\n",
        "sess.run(Y_train)\n"
      ],
      "execution_count": 5,
      "outputs": [
        {
          "output_type": "execute_result",
          "data": {
            "text/plain": [
              "array([[0., 0., 0., ..., 0., 0., 0.],\n",
              "       [1., 0., 0., ..., 0., 0., 0.],\n",
              "       [0., 0., 0., ..., 0., 0., 0.],\n",
              "       ...,\n",
              "       [0., 0., 0., ..., 0., 0., 0.],\n",
              "       [0., 0., 0., ..., 0., 0., 0.],\n",
              "       [0., 0., 0., ..., 0., 1., 0.]], dtype=float32)"
            ]
          },
          "metadata": {
            "tags": []
          },
          "execution_count": 5
        }
      ]
    },
    {
      "cell_type": "code",
      "metadata": {
        "id": "k-W4Hu9VW7DF",
        "colab_type": "code",
        "colab": {
          "base_uri": "https://localhost:8080/",
          "height": 265
        },
        "outputId": "98d23ac6-cb24-45f8-eb1c-efc269c98802"
      },
      "source": [
        "import matplotlib.pyplot as plt\n",
        "first_image=X_train[0]\n",
        "plt.imshow(first_image)\n",
        "plt.show()"
      ],
      "execution_count": 6,
      "outputs": [
        {
          "output_type": "display_data",
          "data": {
            "image/png": "[encoded data removed]",
            "text/plain": [
              "<Figure size 432x288 with 1 Axes>"
            ]
          },
          "metadata": {
            "tags": [],
            "needs_background": "light"
          }
        }
      ]
    },
    {
      "cell_type": "code",
      "metadata": {
        "id": "bImCN1_hXaum",
        "colab_type": "code",
        "colab": {}
      },
      "source": [
        "#changing shape to 2d matrix of x_train and x_test\n",
        "X_train=X_train.reshape((-1,784))\n",
        "X_test=X_test.reshape((-1,784))"
      ],
      "execution_count": 0,
      "outputs": []
    },
    {
      "cell_type": "code",
      "metadata": {
        "id": "hTJto8aggmsD",
        "colab_type": "code",
        "colab": {
          "base_uri": "https://localhost:8080/",
          "height": 34
        },
        "outputId": "5f908e7b-8536-4f8c-f78c-4afef956710f"
      },
      "source": [
        "X_train.shape\n"
      ],
      "execution_count": 8,
      "outputs": [
        {
          "output_type": "execute_result",
          "data": {
            "text/plain": [
              "(60000, 784)"
            ]
          },
          "metadata": {
            "tags": []
          },
          "execution_count": 8
        }
      ]
    },
    {
      "cell_type": "code",
      "metadata": {
        "id": "tCAMFz_ggs0K",
        "colab_type": "code",
        "colab": {
          "base_uri": "https://localhost:8080/",
          "height": 88
        },
        "outputId": "d107b55c-9093-479f-c593-f75cbe7074cb"
      },
      "source": [
        "#arguments \n",
        "n_input=784\n",
        "n_hidden1=256\n",
        "n_hidden2=256\n",
        "n_output=10\n",
        "\n",
        "weights={\n",
        "    'h1':tf.Variable(tf.random_normal([n_input,n_hidden1])),\n",
        "    'h2':tf.Variable(tf.random_normal([n_hidden1,n_hidden2])),\n",
        "    'out':tf.Variable(tf.random_normal([n_hidden2,n_output])),\n",
        "}\n",
        "biases={\n",
        "    'h1':tf.Variable(tf.random_normal([n_hidden1])),\n",
        "    'h2':tf.Variable(tf.random_normal([n_hidden1])),\n",
        "    'out':tf.Variable(tf.random_normal([n_output]))\n",
        "}"
      ],
      "execution_count": 9,
      "outputs": [
        {
          "output_type": "stream",
          "text": [
            "WARNING:tensorflow:From /usr/local/lib/python3.6/dist-packages/tensorflow/python/ops/resource_variable_ops.py:1666: calling BaseResourceVariable.__init__ (from tensorflow.python.ops.resource_variable_ops) with constraint is deprecated and will be removed in a future version.\n",
            "Instructions for updating:\n",
            "If using Keras pass *_constraint arguments to layers.\n"
          ],
          "name": "stdout"
        }
      ]
    },
    {
      "cell_type": "code",
      "metadata": {
        "id": "uv5sELUsl_pP",
        "colab_type": "code",
        "colab": {}
      },
      "source": [
        "#forward propagation\n",
        "def fp(x,weights,biases):\n",
        "  in_layer1=tf.add(tf.matmul(x,weights['h1']),biases['h1'])\n",
        "  out_layer1=tf.nn.relu(in_layer1)#activation function  max(a,0)\n",
        "  in_layer2=tf.add(tf.matmul(out_layer1,weights['h2']),biases['h2'])\n",
        "  out_layer2=tf.nn.relu(in_layer2)#activation function  max(a,0)\n",
        "  output=tf.add(tf.matmul(out_layer2,weights['out']),biases['out'])\n",
        "  return output\n"
      ],
      "execution_count": 0,
      "outputs": []
    },
    {
      "cell_type": "code",
      "metadata": {
        "id": "w5KIGaaMZbee",
        "colab_type": "code",
        "colab": {}
      },
      "source": [
        "sess=tf.Session()\n",
        "sess.run(tf.global_variables_initializer())\n",
        "x=tf.placeholder(\"float\",shape=[None,784])\n",
        "y=tf.placeholder(tf.int32,shape=[None,10])"
      ],
      "execution_count": 0,
      "outputs": []
    },
    {
      "cell_type": "code",
      "metadata": {
        "id": "Srtwd10spUyI",
        "colab_type": "code",
        "colab": {
          "base_uri": "https://localhost:8080/",
          "height": 34
        },
        "outputId": "35b8e99c-53b5-4f2c-c9b6-416604c37e9a"
      },
      "source": [
        "# lets predict with random weights without any optimization\n",
        "\n",
        "pred=fp(x,weights,biases)\n",
        "prediction=tf.argmax(pred,axis=1)\n",
        "true_label=tf.argmax(y,axis=1)\n",
        "\n",
        "pd,label=sess.run([prediction,true_label],feed_dict={x:X_train,y:sess.run(Y_train)})\n",
        "pd,label\n"
      ],
      "execution_count": 26,
      "outputs": [
        {
          "output_type": "execute_result",
          "data": {
            "text/plain": [
              "(array([4, 4, 2, ..., 4, 4, 4]), array([5, 0, 4, ..., 5, 6, 8]))"
            ]
          },
          "metadata": {
            "tags": []
          },
          "execution_count": 26
        }
      ]
    },
    {
      "cell_type": "code",
      "metadata": {
        "id": "Xa2cql9hZX8i",
        "colab_type": "code",
        "colab": {
          "base_uri": "https://localhost:8080/",
          "height": 34
        },
        "outputId": "8d195b5d-931e-4cad-85e2-e81a844120bc"
      },
      "source": [
        "#let found number of correct prediction\n",
        "correct_pred=tf.equal(pd,label)\n",
        "correct_prediction=sess.run(correct_pred)\n",
        "correct_prediction"
      ],
      "execution_count": 27,
      "outputs": [
        {
          "output_type": "execute_result",
          "data": {
            "text/plain": [
              "array([False, False, False, ..., False, False, False])"
            ]
          },
          "metadata": {
            "tags": []
          },
          "execution_count": 27
        }
      ]
    },
    {
      "cell_type": "code",
      "metadata": {
        "id": "iAmE_9h00Wx3",
        "colab_type": "code",
        "colab": {
          "base_uri": "https://localhost:8080/",
          "height": 34
        },
        "outputId": "ce0b5dfd-65fb-4f4a-a468-1ed6b5856e1a"
      },
      "source": [
        "correct_prediction.sum()"
      ],
      "execution_count": 28,
      "outputs": [
        {
          "output_type": "execute_result",
          "data": {
            "text/plain": [
              "5845"
            ]
          },
          "metadata": {
            "tags": []
          },
          "execution_count": 28
        }
      ]
    },
    {
      "cell_type": "code",
      "metadata": {
        "id": "g41xLwaFew5r",
        "colab_type": "code",
        "colab": {}
      },
      "source": [
        ""
      ],
      "execution_count": 0,
      "outputs": []
    }
  ]
}